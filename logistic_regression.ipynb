{
 "cells": [
  {
   "cell_type": "markdown",
   "metadata": {},
   "source": [
    "## Logistic regression model in this file"
   ]
  },
  {
   "cell_type": "code",
   "execution_count": null,
   "metadata": {},
   "outputs": [],
   "source": [
    "# Third party imports\n",
    "import numpy as np\n",
    "import pandas as pd\n",
    "import matplotlib.pyplot as plt\n",
    "from sklearn.linear_model import LogisticRegression\n",
    "from sklearn.metrics import accuracy_score, log_loss\n",
    "from sklearn.metrics import accuracy_score, confusion_matrix, classification_report\n",
    "import seaborn as sns\n",
    "\n",
    "# Local imports\n",
    "from utils import scroll_df"
   ]
  },
  {
   "cell_type": "markdown",
   "metadata": {},
   "source": [
    "#### Load the data train, val and test data for two datasets"
   ]
  },
  {
   "cell_type": "code",
   "execution_count": null,
   "metadata": {},
   "outputs": [],
   "source": [
    "dataset_1_train = pd.read_csv(\"datasets/train_dataset_1.csv\")\n",
    "X_train_1 = dataset_1_train.drop(columns=[\"vehicle_id\", \"time_step\", \"class\"])\n",
    "y_train_1 = dataset_1_train[\"class\"]\n",
    "\n",
    "dataset_2_train = pd.read_csv(\"datasets/train_dataset_1.csv\")\n",
    "X_train_2 = dataset_2_train.drop(columns=[\"vehicle_id\", \"time_step\", \"class\"])\n",
    "y_train_2 = dataset_2_train[\"class\"]\n",
    "\n",
    "print(\"Dataset 1\")\n",
    "print(\"X: \", X_train_1.shape)\n",
    "print(\"y: \", y_train_1.shape)\n",
    "\n",
    "print(\"Dataset 2\")\n",
    "print(\"X: \", X_train_2.shape)\n",
    "print(\"y: \", y_train_2.shape)"
   ]
  },
  {
   "cell_type": "code",
   "execution_count": null,
   "metadata": {},
   "outputs": [],
   "source": [
    "dataset_1_val = pd.read_csv(\"datasets/val_dataset_1.csv\")\n",
    "X_val_1 = dataset_1_val.drop(columns=[\"vehicle_id\", \"time_step\", \"class\"])\n",
    "y_val_1 = dataset_1_val[\"class\"]\n",
    "\n",
    "dataset_2_val = pd.read_csv(\"datasets/val_dataset_2.csv\")\n",
    "X_val_2 = dataset_2_val.drop(columns=[\"vehicle_id\", \"time_step\", \"class\"])\n",
    "y_val_2 = dataset_2_val[\"class\"]\n",
    "\n",
    "print(\"Dataset 1\")\n",
    "print(\"X: \", X_val_1.shape)\n",
    "print(\"y: \", y_val_1.shape)\n",
    "\n",
    "print(\"Dataset 2\")\n",
    "print(\"X: \", X_val_2.shape)\n",
    "print(\"y: \", y_val_2.shape)"
   ]
  },
  {
   "cell_type": "code",
   "execution_count": null,
   "metadata": {},
   "outputs": [],
   "source": [
    "dataset_1_test = pd.read_csv(\"datasets/test_dataset_1.csv\")\n",
    "X_test_1 = dataset_1_test.drop(columns=[\"vehicle_id\", \"time_step\", \"class\"])\n",
    "y_test_1 = dataset_1_test[\"class\"]\n",
    "\n",
    "dataset_2_test = pd.read_csv(\"datasets/test_dataset_2.csv\")\n",
    "X_test_2 = dataset_2_test.drop(columns=[\"vehicle_id\", \"time_step\", \"class\"])\n",
    "y_test_2 = dataset_2_test[\"class\"]\n",
    "\n",
    "print(\"Dataset 1\")\n",
    "print(\"X: \", X_test_1.shape)\n",
    "print(\"y: \", y_test_1.shape)\n",
    "\n",
    "print(\"Dataset 2\")\n",
    "print(\"X: \", X_test_2.shape)\n",
    "print(\"y: \", y_test_2.shape)"
   ]
  },
  {
   "cell_type": "markdown",
   "metadata": {},
   "source": [
    "#### Train and evaluation of model for different hyper params for a dataset"
   ]
  },
  {
   "cell_type": "code",
   "execution_count": null,
   "metadata": {},
   "outputs": [],
   "source": [
    "def train_and_evaluate_logisctic_regression(X_train, y_train, X_val, y_val, solvers):\n",
    "    results = {\"solver\": [], \n",
    "               \"train_accuracy\": [], \n",
    "               \"val_accuracy\": [], \n",
    "               \"train_loss\": [], \n",
    "               \"val_loss\": [],\n",
    "               \"models\": []\n",
    "               }\n",
    "    \n",
    "    for solver in solvers:\n",
    "        # Initialize and train the model\n",
    "        model = LogisticRegression(solver=solver, max_iter=1000, random_state=50)\n",
    "        model.fit(X_train, y_train)\n",
    "\n",
    "        # Predictions\n",
    "        y_train_pred = model.predict(X_train)\n",
    "        y_val_pred = model.predict(X_val)\n",
    "        \n",
    "        # Probabilities for log loss\n",
    "        y_train_proba = model.predict_proba(X_train)\n",
    "        y_val_proba = model.predict_proba(X_val)\n",
    "\n",
    "        # Calculate accuracy and log loss\n",
    "        train_acc = accuracy_score(y_train, y_train_pred)\n",
    "        val_acc = accuracy_score(y_val, y_val_pred)\n",
    "        train_loss = log_loss(y_train, y_train_proba)\n",
    "        val_loss = log_loss(y_val, y_val_proba)\n",
    "\n",
    "        # Store results\n",
    "        results[\"solver\"].append(solver)\n",
    "        results[\"train_accuracy\"].append(train_acc)\n",
    "        results[\"val_accuracy\"].append(val_acc)\n",
    "        results[\"train_loss\"].append(train_loss)\n",
    "        results[\"val_loss\"].append(val_loss)\n",
    "        results[\"models\"].append(model)\n",
    "\n",
    "        print(f\"Solver={solver}: Train Acc={train_acc:.4f}, Val Acc={val_acc:.4f}, Train Loss={train_loss:.4f}, Val Loss={val_loss:.4f}\")\n",
    "    \n",
    "    return results\n"
   ]
  },
  {
   "cell_type": "code",
   "execution_count": null,
   "metadata": {},
   "outputs": [],
   "source": [
    "solvers = ['lbfgs', 'newton-cg', 'sag', 'saga']\n",
    "\n",
    "results_dataset_1 = train_and_evaluate_logisctic_regression(X_train_1, y_train_1, X_val_1, y_val_1, solvers)"
   ]
  },
  {
   "cell_type": "code",
   "execution_count": null,
   "metadata": {},
   "outputs": [],
   "source": [
    "results_dataset_1"
   ]
  },
  {
   "cell_type": "code",
   "execution_count": null,
   "metadata": {},
   "outputs": [],
   "source": [
    "results_dataset_2 = train_and_evaluate_logisctic_regression(X_train_2, y_train_2, X_val_2, y_val_2, solvers)"
   ]
  },
  {
   "cell_type": "code",
   "execution_count": null,
   "metadata": {},
   "outputs": [],
   "source": [
    "results_dataset_2"
   ]
  },
  {
   "cell_type": "markdown",
   "metadata": {},
   "source": [
    "#### Test the models"
   ]
  },
  {
   "cell_type": "code",
   "execution_count": null,
   "metadata": {},
   "outputs": [],
   "source": [
    "def eval_on_test_set(model, X, y_true):\n",
    "\n",
    "    # Make predictions\n",
    "    y_test_pred = model.predict(X)\n",
    "\n",
    "    # Compute metrics\n",
    "    accuracy = accuracy_score(y_true, y_test_pred)\n",
    "\n",
    "    # Confusion Matrix\n",
    "    conf_matrix = confusion_matrix(y_test_2, y_test_pred)\n",
    "\n",
    "    # Print Metrics\n",
    "    print(f\"Accuracy: {accuracy:.4f}\")\n",
    "\n",
    "    # Detailed Classification Report\n",
    "    print(\"\\nClassification Report:\\n\", classification_report(y_test_2, y_test_pred))\n",
    "\n",
    "    # Plot Confusion Matrix\n",
    "    plt.figure(figsize=(6, 5))\n",
    "    sns.heatmap(conf_matrix, annot=True, fmt=\"d\", cmap=\"Blues\", xticklabels=[0, 1, 2, 3, 4], yticklabels=[0, 1, 2, 3, 4])\n",
    "    plt.xlabel(\"Predicted Label\")\n",
    "    plt.ylabel(\"True Label\")\n",
    "    plt.title(\"Confusion Matrix\")\n",
    "    plt.show()"
   ]
  },
  {
   "cell_type": "code",
   "execution_count": null,
   "metadata": {},
   "outputs": [],
   "source": [
    "# Eval newton-cg model\n",
    "\n",
    "model_1 = results_dataset_1[\"models\"][1]\n",
    "print(model_1)\n",
    "\n",
    "eval_on_test_set(model_1, X_test_1, y_test_1)\n"
   ]
  },
  {
   "cell_type": "code",
   "execution_count": null,
   "metadata": {},
   "outputs": [],
   "source": [
    "# Eval newton-cg model\n",
    "\n",
    "model_2 = results_dataset_2[\"models\"][0]\n",
    "print(model_2)\n",
    "\n",
    "eval_on_test_set(model_2, X_test_2, y_test_2)"
   ]
  }
 ],
 "metadata": {
  "kernelspec": {
   "display_name": "venv",
   "language": "python",
   "name": "python3"
  },
  "language_info": {
   "codemirror_mode": {
    "name": "ipython",
    "version": 3
   },
   "file_extension": ".py",
   "mimetype": "text/x-python",
   "name": "python",
   "nbconvert_exporter": "python",
   "pygments_lexer": "ipython3",
   "version": "3.13.2"
  }
 },
 "nbformat": 4,
 "nbformat_minor": 2
}
